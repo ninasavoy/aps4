{
 "cells": [
  {
   "cell_type": "code",
   "execution_count": 12,
   "metadata": {},
   "outputs": [],
   "source": [
    "import scipy.stats as st \n",
    "\n",
    "brasil = 214300000\n",
    "qtd_dom_pet = brasil * 0.654\n",
    "qtd_cachorro_dom = qtd_dom_pet * 0.705\n",
    "qtd_gatos_dom = qtd_dom_pet * 0.295\n"
   ]
  },
  {
   "cell_type": "code",
   "execution_count": 13,
   "metadata": {},
   "outputs": [
    {
     "name": "stdout",
     "output_type": "stream",
     "text": [
      "0.705\n",
      "0.0\n"
     ]
    }
   ],
   "source": [
    "p_cachorro_dom = qtd_cachorro_dom / qtd_dom_pet\n",
    "print(p_cachorro_dom)\n",
    "\n",
    "dist_binomial = st.binom.cdf(k= qtd_gatos_dom, n= qtd_dom_pet, p=p_cachorro_dom)\n",
    "print(dist_binomial)"
   ]
  }
 ],
 "metadata": {
  "kernelspec": {
   "display_name": "venv",
   "language": "python",
   "name": "python3"
  },
  "language_info": {
   "codemirror_mode": {
    "name": "ipython",
    "version": 3
   },
   "file_extension": ".py",
   "mimetype": "text/x-python",
   "name": "python",
   "nbconvert_exporter": "python",
   "pygments_lexer": "ipython3",
   "version": "3.11.4"
  }
 },
 "nbformat": 4,
 "nbformat_minor": 2
}
